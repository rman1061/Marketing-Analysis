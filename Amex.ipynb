{
  "cells": [
    {
      "cell_type": "markdown",
      "metadata": {
        "id": "view-in-github",
        "colab_type": "text"
      },
      "source": [
        "<a href=\"https://colab.research.google.com/github/rman1061/Marketing-Analysis/blob/main/Amex.ipynb\" target=\"_parent\"><img src=\"https://colab.research.google.com/assets/colab-badge.svg\" alt=\"Open In Colab\"/></a>"
      ]
    },
    {
      "cell_type": "code",
      "execution_count": null,
      "metadata": {
        "id": "H4Pa6SHf9VwH"
      },
      "outputs": [],
      "source": [
        "import pandas as pd \n",
        "import matplotlib.pyplot as plt \n",
        "import seaborn as sns \n",
        "import numpy as np"
      ]
    },
    {
      "cell_type": "code",
      "execution_count": null,
      "metadata": {
        "id": "xwLJhHsj9VwP"
      },
      "outputs": [],
      "source": [
        "amex = pd.read_csv('train.csv')"
      ]
    },
    {
      "cell_type": "code",
      "execution_count": null,
      "metadata": {
        "id": "DNGe2Ava9VwS",
        "outputId": "42cbde4c-9d9a-4dd3-eb02-dba8a5efa5ff"
      },
      "outputs": [
        {
          "data": {
            "text/html": [
              "<div>\n",
              "<style scoped>\n",
              "    .dataframe tbody tr th:only-of-type {\n",
              "        vertical-align: middle;\n",
              "    }\n",
              "\n",
              "    .dataframe tbody tr th {\n",
              "        vertical-align: top;\n",
              "    }\n",
              "\n",
              "    .dataframe thead th {\n",
              "        text-align: right;\n",
              "    }\n",
              "</style>\n",
              "<table border=\"1\" class=\"dataframe\">\n",
              "  <thead>\n",
              "    <tr style=\"text-align: right;\">\n",
              "      <th></th>\n",
              "      <th>session_id</th>\n",
              "      <th>DateTime</th>\n",
              "      <th>user_id</th>\n",
              "      <th>product</th>\n",
              "      <th>campaign_id</th>\n",
              "      <th>webpage_id</th>\n",
              "      <th>product_category_1</th>\n",
              "      <th>product_category_2</th>\n",
              "      <th>user_group_id</th>\n",
              "      <th>gender</th>\n",
              "      <th>age_level</th>\n",
              "      <th>user_depth</th>\n",
              "      <th>city_development_index</th>\n",
              "      <th>var_1</th>\n",
              "      <th>is_click</th>\n",
              "    </tr>\n",
              "  </thead>\n",
              "  <tbody>\n",
              "    <tr>\n",
              "      <th>0</th>\n",
              "      <td>140690</td>\n",
              "      <td>2017-07-02 00:00</td>\n",
              "      <td>858557</td>\n",
              "      <td>C</td>\n",
              "      <td>359520</td>\n",
              "      <td>13787</td>\n",
              "      <td>4</td>\n",
              "      <td>NaN</td>\n",
              "      <td>10.0</td>\n",
              "      <td>Female</td>\n",
              "      <td>4.0</td>\n",
              "      <td>3.0</td>\n",
              "      <td>3.0</td>\n",
              "      <td>0</td>\n",
              "      <td>0</td>\n",
              "    </tr>\n",
              "    <tr>\n",
              "      <th>1</th>\n",
              "      <td>333291</td>\n",
              "      <td>2017-07-02 00:00</td>\n",
              "      <td>243253</td>\n",
              "      <td>C</td>\n",
              "      <td>105960</td>\n",
              "      <td>11085</td>\n",
              "      <td>5</td>\n",
              "      <td>NaN</td>\n",
              "      <td>8.0</td>\n",
              "      <td>Female</td>\n",
              "      <td>2.0</td>\n",
              "      <td>2.0</td>\n",
              "      <td>NaN</td>\n",
              "      <td>0</td>\n",
              "      <td>0</td>\n",
              "    </tr>\n",
              "    <tr>\n",
              "      <th>2</th>\n",
              "      <td>129781</td>\n",
              "      <td>2017-07-02 00:00</td>\n",
              "      <td>243253</td>\n",
              "      <td>C</td>\n",
              "      <td>359520</td>\n",
              "      <td>13787</td>\n",
              "      <td>4</td>\n",
              "      <td>NaN</td>\n",
              "      <td>8.0</td>\n",
              "      <td>Female</td>\n",
              "      <td>2.0</td>\n",
              "      <td>2.0</td>\n",
              "      <td>NaN</td>\n",
              "      <td>0</td>\n",
              "      <td>0</td>\n",
              "    </tr>\n",
              "    <tr>\n",
              "      <th>3</th>\n",
              "      <td>464848</td>\n",
              "      <td>2017-07-02 00:00</td>\n",
              "      <td>1097446</td>\n",
              "      <td>I</td>\n",
              "      <td>359520</td>\n",
              "      <td>13787</td>\n",
              "      <td>3</td>\n",
              "      <td>NaN</td>\n",
              "      <td>3.0</td>\n",
              "      <td>Male</td>\n",
              "      <td>3.0</td>\n",
              "      <td>3.0</td>\n",
              "      <td>2.0</td>\n",
              "      <td>1</td>\n",
              "      <td>0</td>\n",
              "    </tr>\n",
              "    <tr>\n",
              "      <th>4</th>\n",
              "      <td>90569</td>\n",
              "      <td>2017-07-02 00:01</td>\n",
              "      <td>663656</td>\n",
              "      <td>C</td>\n",
              "      <td>405490</td>\n",
              "      <td>60305</td>\n",
              "      <td>3</td>\n",
              "      <td>NaN</td>\n",
              "      <td>2.0</td>\n",
              "      <td>Male</td>\n",
              "      <td>2.0</td>\n",
              "      <td>3.0</td>\n",
              "      <td>2.0</td>\n",
              "      <td>1</td>\n",
              "      <td>0</td>\n",
              "    </tr>\n",
              "  </tbody>\n",
              "</table>\n",
              "</div>"
            ],
            "text/plain": [
              "   session_id          DateTime  user_id product  campaign_id  webpage_id  \\\n",
              "0      140690  2017-07-02 00:00   858557       C       359520       13787   \n",
              "1      333291  2017-07-02 00:00   243253       C       105960       11085   \n",
              "2      129781  2017-07-02 00:00   243253       C       359520       13787   \n",
              "3      464848  2017-07-02 00:00  1097446       I       359520       13787   \n",
              "4       90569  2017-07-02 00:01   663656       C       405490       60305   \n",
              "\n",
              "   product_category_1  product_category_2  user_group_id  gender  age_level  \\\n",
              "0                   4                 NaN           10.0  Female        4.0   \n",
              "1                   5                 NaN            8.0  Female        2.0   \n",
              "2                   4                 NaN            8.0  Female        2.0   \n",
              "3                   3                 NaN            3.0    Male        3.0   \n",
              "4                   3                 NaN            2.0    Male        2.0   \n",
              "\n",
              "   user_depth  city_development_index  var_1  is_click  \n",
              "0         3.0                     3.0      0         0  \n",
              "1         2.0                     NaN      0         0  \n",
              "2         2.0                     NaN      0         0  \n",
              "3         3.0                     2.0      1         0  \n",
              "4         3.0                     2.0      1         0  "
            ]
          },
          "execution_count": 3,
          "metadata": {},
          "output_type": "execute_result"
        }
      ],
      "source": [
        "amex.head()"
      ]
    },
    {
      "cell_type": "code",
      "execution_count": null,
      "metadata": {
        "id": "TWVzSGyK9VwZ",
        "outputId": "a2c70b4e-3c26-49f4-c728-da49019a9c2d"
      },
      "outputs": [
        {
          "data": {
            "text/plain": [
              "<matplotlib.axes._subplots.AxesSubplot at 0x10ecb0be0>"
            ]
          },
          "execution_count": 6,
          "metadata": {},
          "output_type": "execute_result"
        },
        {
          "data": {
            "image/png": "[encoded data removed]",
            "text/plain": [
              "<matplotlib.figure.Figure at 0x10ecb0ef0>"
            ]
          },
          "metadata": {},
          "output_type": "display_data"
        }
      ],
      "source": [
        "sns.countplot(amex['is_click'],hue=amex['gender'])"
      ]
    },
    {
      "cell_type": "code",
      "execution_count": null,
      "metadata": {
        "id": "aQJBkp7-9Vwb",
        "outputId": "149250c6-a305-46bb-9bd9-fb39bf741805"
      },
      "outputs": [
        {
          "data": {
            "text/plain": [
              "<matplotlib.axes._subplots.AxesSubplot at 0x10f2a0fd0>"
            ]
          },
          "execution_count": 7,
          "metadata": {},
          "output_type": "execute_result"
        },
        {
          "data": {
            "image/png": "[encoded data removed]",
            "text/plain": [
              "<matplotlib.figure.Figure at 0x10f294f28>"
            ]
          },
          "metadata": {},
          "output_type": "display_data"
        }
      ],
      "source": [
        "sns.countplot(amex['is_click'],hue=amex['age_level'])"
      ]
    },
    {
      "cell_type": "code",
      "execution_count": null,
      "metadata": {
        "id": "4Ab1Ozq79Vwe"
      },
      "outputs": [],
      "source": [
        ""
      ]
    },
    {
      "cell_type": "code",
      "execution_count": null,
      "metadata": {
        "id": "ye1ODFW_9Vwg"
      },
      "outputs": [],
      "source": [
        "def productCatagory2(columns):\n",
        "    product = columns[0]\n",
        "    campaign = columns[1]\n",
        "    webpage = columns[2]\n",
        "    catagory = columns[3]\n",
        "    \n",
        "    if pd.isnull(catagory):\n",
        "        \n",
        "        if(product == 'H' and campaign == 404347  and webpage == 53587 ):\n",
        "            return(235358.0)\n",
        "        elif(product == 'C' and campaign == 404347  and webpage == 53587 ):\n",
        "            return(234846.0)\n",
        "        elif(product == 'A' and campaign == 404347  and webpage == 53587 ):\n",
        "            return(234846.0)\n",
        "        elif(product == 'F' and campaign == 404347  and webpage == 53587 ):\n",
        "            return(301147.0)\n",
        "        elif(product == 'H' and campaign == 404347  and webpage == 53587 ):\n",
        "            return(99226.0)\n",
        "        elif(product == 'B' and campaign == 404347  and webpage == 53587 ):\n",
        "            return(408790.0)\n",
        "        elif(product == 'D' and campaign == 404347  and webpage == 53587 ):\n",
        "            return(146115.0)\n",
        "        elif(product == 'E' and campaign == 404347  and webpage == 53587 ):\n",
        "            return(146115.0)\n",
        "        elif(product == 'G' and campaign == 404347  and webpage == 53587 ):\n",
        "            return(327439.0)\n",
        "        elif(product == 'I' and campaign == 404347  and webpage == 53587 ):\n",
        "            return(419804.0)\n",
        "        elif(product == 'J' and campaign == 404347  and webpage == 53587 ):\n",
        "            return(450184.0)\n",
        "        \n",
        "        \n",
        "        elif(product == 'B' and campaign == 414149  and webpage == 45962 ):\n",
        "            return(143597.0)\n",
        "        elif(product == 'C' and campaign == 414149  and webpage == 45962 ):\n",
        "            return(254132.0)\n",
        "        elif(product == 'D' and campaign == 414149  and webpage == 45962 ):\n",
        "            return(254132.0)\n",
        "        elif(product == 'E' and campaign == 414149  and webpage == 45962 ):\n",
        "            return(254132.0)\n",
        "        \n",
        "        \n",
        "        elif(product == 'A' and campaign == 396664  and webpage == 51181 ):\n",
        "            return(143597.0)\n",
        "        elif(product == 'F' and campaign == 396664  and webpage == 51181 ):\n",
        "            return(18595.0)\n",
        "        \n",
        "        \n",
        "        elif(product == 'C' and campaign == 98970  and webpage == 6970 ):\n",
        "            return(270147.0)\n",
        "        elif(product == 'I' and campaign == 98970  and webpage == 6970 ):\n",
        "            return(327439.0)\n",
        "        elif(product == 'B' and campaign == 98970  and webpage == 6970 ):\n",
        "            return(202351.0)\n",
        "        \n",
        "        \n",
        "        elif(product == 'C' and campaign == 359520  and webpage == 13787 ):\n",
        "            return(408831.0)\n",
        "        \n",
        "        \n",
        "        elif(product == 'A' and campaign == 118601  and webpage == 28529 ):\n",
        "            return(82527.0)\n",
        "        elif(product == 'B' and campaign == 118601  and webpage == 28529 ):\n",
        "            return(82527.0)\n",
        "        elif(product == 'H' and campaign == 118601  and webpage == 28529 ):\n",
        "            return(82527.0)\n",
        "        elif(product == 'G' and campaign == 118601  and webpage == 28529 ):\n",
        "            return(82527.0)\n",
        "        elif(product == 'I' and campaign == 118601  and webpage == 28529 ):\n",
        "            return(82527.0)\n",
        "        \n",
        "        \n",
        "        elif(product == 'B' and campaign == 82320  and webpage == 1734 ):\n",
        "            return(235358.0)\n",
        "        elif(product == 'G' and campaign == 82320  and webpage == 1734):\n",
        "            return(255689.0)\n",
        "        elif(product == 'H' and campaign == 82320  and webpage == 1734):\n",
        "            return(255689.0)\n",
        "        elif(product == 'I' and campaign == 82320  and webpage == 1734):\n",
        "            return(18595.0)\n",
        "        elif(product == 'C' and campaign == 82320  and webpage == 1734):\n",
        "            return(18595.0)\n",
        "        else:\n",
        "            return(211061.500000)\n",
        "            \n",
        "        \n",
        "    else:\n",
        "        return(catagory)\n",
        "        "
      ]
    },
    {
      "cell_type": "code",
      "execution_count": null,
      "metadata": {
        "id": "50wkTwEI9Vwr"
      },
      "outputs": [],
      "source": [
        "amex['product_category_2'] = amex[['product','campaign_id','webpage_id','product_category_2']].apply(productCatagory2,axis = 1)"
      ]
    },
    {
      "cell_type": "code",
      "execution_count": null,
      "metadata": {
        "id": "wOFo3nvM9Vwv",
        "outputId": "bfb95bc4-cac4-4757-ddac-41f3fa21479c"
      },
      "outputs": [
        {
          "data": {
            "text/plain": [
              "<matplotlib.axes._subplots.AxesSubplot at 0x1b240d7208>"
            ]
          },
          "execution_count": 306,
          "metadata": {},
          "output_type": "execute_result"
        },
        {
          "data": {
            "image/png": "[encoded data removed]",
            "text/plain": [
              "<matplotlib.figure.Figure at 0x1b1c5d4ef0>"
            ]
          },
          "metadata": {},
          "output_type": "display_data"
        }
      ],
      "source": [
        "sns.heatmap(amex.isna(),yticklabels=False,cbar=False)"
      ]
    },
    {
      "cell_type": "code",
      "execution_count": null,
      "metadata": {
        "id": "Prkb2Ps09Vwy"
      },
      "outputs": [],
      "source": [
        "def gender(col):\n",
        "    pro1 = col[0]\n",
        "    gender = col[1]\n",
        "    \n",
        "    if pd.isnull(gender):\n",
        "        if(pro1 <= 3):\n",
        "            return('Male')\n",
        "        else:\n",
        "            return('Female')\n",
        "    else:\n",
        "        return(gender)"
      ]
    },
    {
      "cell_type": "code",
      "execution_count": null,
      "metadata": {
        "id": "ILTHIt-r9Vw2"
      },
      "outputs": [],
      "source": [
        "amex['gender'] = amex[['product_category_1','gender']].apply(gender,axis = 1)"
      ]
    },
    {
      "cell_type": "code",
      "execution_count": null,
      "metadata": {
        "id": "3CVtkb8D9Vw4"
      },
      "outputs": [],
      "source": [
        "def userGroupId(col):\n",
        "    gender = col[0]\n",
        "    user = col[1]\n",
        "    \n",
        "    if pd.isnull(user):\n",
        "        if(gender == 'Female'):\n",
        "            return(8)\n",
        "        else:\n",
        "            return(3)\n",
        "    else:\n",
        "        return(user)"
      ]
    },
    {
      "cell_type": "code",
      "execution_count": null,
      "metadata": {
        "id": "XEn3P-AG9Vw8"
      },
      "outputs": [],
      "source": [
        "amex['user_group_id'] = amex[['gender','user_group_id']].apply(userGroupId,axis = 1)"
      ]
    },
    {
      "cell_type": "code",
      "execution_count": null,
      "metadata": {
        "id": "FGYMI-i79Vw_"
      },
      "outputs": [],
      "source": [
        "amex['age_level'].fillna(3,inplace = True)"
      ]
    },
    {
      "cell_type": "code",
      "execution_count": null,
      "metadata": {
        "id": "8kAhR5_T9VxF"
      },
      "outputs": [],
      "source": [
        "amex['user_depth'].fillna(3,inplace = True)"
      ]
    },
    {
      "cell_type": "code",
      "execution_count": null,
      "metadata": {
        "id": "w9Uha0JS9VxJ"
      },
      "outputs": [],
      "source": [
        "amex['city_development_index'].fillna(3,inplace = True)"
      ]
    },
    {
      "cell_type": "code",
      "execution_count": null,
      "metadata": {
        "id": "IG9tM10Z9VxL",
        "outputId": "1dcc0b5d-51cd-4e3d-e02b-0c55d809da6a"
      },
      "outputs": [
        {
          "data": {
            "text/plain": [
              "<matplotlib.axes._subplots.AxesSubplot at 0x1b15563358>"
            ]
          },
          "execution_count": 314,
          "metadata": {},
          "output_type": "execute_result"
        },
        {
          "data": {
            "image/png": "[encoded data removed]",
            "text/plain": [
              "<matplotlib.figure.Figure at 0x1b3a5b19b0>"
            ]
          },
          "metadata": {},
          "output_type": "display_data"
        }
      ],
      "source": [
        "sns.heatmap(amex.isna(),yticklabels=False,cbar=False)"
      ]
    },
    {
      "cell_type": "code",
      "execution_count": null,
      "metadata": {
        "id": "Tpeco9kX9VxN",
        "outputId": "a1778957-06f2-4ece-c9ab-3d65b4050388"
      },
      "outputs": [
        {
          "data": {
            "text/html": [
              "<div>\n",
              "<style scoped>\n",
              "    .dataframe tbody tr th:only-of-type {\n",
              "        vertical-align: middle;\n",
              "    }\n",
              "\n",
              "    .dataframe tbody tr th {\n",
              "        vertical-align: top;\n",
              "    }\n",
              "\n",
              "    .dataframe thead th {\n",
              "        text-align: right;\n",
              "    }\n",
              "</style>\n",
              "<table border=\"1\" class=\"dataframe\">\n",
              "  <thead>\n",
              "    <tr style=\"text-align: right;\">\n",
              "      <th></th>\n",
              "      <th>session_id</th>\n",
              "      <th>DateTime</th>\n",
              "      <th>user_id</th>\n",
              "      <th>product</th>\n",
              "      <th>campaign_id</th>\n",
              "      <th>webpage_id</th>\n",
              "      <th>product_category_1</th>\n",
              "      <th>product_category_2</th>\n",
              "      <th>user_group_id</th>\n",
              "      <th>gender</th>\n",
              "      <th>age_level</th>\n",
              "      <th>user_depth</th>\n",
              "      <th>city_development_index</th>\n",
              "      <th>var_1</th>\n",
              "      <th>is_click</th>\n",
              "    </tr>\n",
              "  </thead>\n",
              "  <tbody>\n",
              "    <tr>\n",
              "      <th>0</th>\n",
              "      <td>140690</td>\n",
              "      <td>2017-07-02 00:00</td>\n",
              "      <td>858557</td>\n",
              "      <td>C</td>\n",
              "      <td>359520</td>\n",
              "      <td>13787</td>\n",
              "      <td>4</td>\n",
              "      <td>408831.0</td>\n",
              "      <td>10.0</td>\n",
              "      <td>Female</td>\n",
              "      <td>4.0</td>\n",
              "      <td>3.0</td>\n",
              "      <td>3.0</td>\n",
              "      <td>0</td>\n",
              "      <td>0</td>\n",
              "    </tr>\n",
              "    <tr>\n",
              "      <th>1</th>\n",
              "      <td>333291</td>\n",
              "      <td>2017-07-02 00:00</td>\n",
              "      <td>243253</td>\n",
              "      <td>C</td>\n",
              "      <td>105960</td>\n",
              "      <td>11085</td>\n",
              "      <td>5</td>\n",
              "      <td>211061.5</td>\n",
              "      <td>8.0</td>\n",
              "      <td>Female</td>\n",
              "      <td>2.0</td>\n",
              "      <td>2.0</td>\n",
              "      <td>3.0</td>\n",
              "      <td>0</td>\n",
              "      <td>0</td>\n",
              "    </tr>\n",
              "    <tr>\n",
              "      <th>2</th>\n",
              "      <td>129781</td>\n",
              "      <td>2017-07-02 00:00</td>\n",
              "      <td>243253</td>\n",
              "      <td>C</td>\n",
              "      <td>359520</td>\n",
              "      <td>13787</td>\n",
              "      <td>4</td>\n",
              "      <td>408831.0</td>\n",
              "      <td>8.0</td>\n",
              "      <td>Female</td>\n",
              "      <td>2.0</td>\n",
              "      <td>2.0</td>\n",
              "      <td>3.0</td>\n",
              "      <td>0</td>\n",
              "      <td>0</td>\n",
              "    </tr>\n",
              "    <tr>\n",
              "      <th>3</th>\n",
              "      <td>464848</td>\n",
              "      <td>2017-07-02 00:00</td>\n",
              "      <td>1097446</td>\n",
              "      <td>I</td>\n",
              "      <td>359520</td>\n",
              "      <td>13787</td>\n",
              "      <td>3</td>\n",
              "      <td>211061.5</td>\n",
              "      <td>3.0</td>\n",
              "      <td>Male</td>\n",
              "      <td>3.0</td>\n",
              "      <td>3.0</td>\n",
              "      <td>2.0</td>\n",
              "      <td>1</td>\n",
              "      <td>0</td>\n",
              "    </tr>\n",
              "    <tr>\n",
              "      <th>4</th>\n",
              "      <td>90569</td>\n",
              "      <td>2017-07-02 00:01</td>\n",
              "      <td>663656</td>\n",
              "      <td>C</td>\n",
              "      <td>405490</td>\n",
              "      <td>60305</td>\n",
              "      <td>3</td>\n",
              "      <td>211061.5</td>\n",
              "      <td>2.0</td>\n",
              "      <td>Male</td>\n",
              "      <td>2.0</td>\n",
              "      <td>3.0</td>\n",
              "      <td>2.0</td>\n",
              "      <td>1</td>\n",
              "      <td>0</td>\n",
              "    </tr>\n",
              "  </tbody>\n",
              "</table>\n",
              "</div>"
            ],
            "text/plain": [
              "   session_id          DateTime  user_id product  campaign_id  webpage_id  \\\n",
              "0      140690  2017-07-02 00:00   858557       C       359520       13787   \n",
              "1      333291  2017-07-02 00:00   243253       C       105960       11085   \n",
              "2      129781  2017-07-02 00:00   243253       C       359520       13787   \n",
              "3      464848  2017-07-02 00:00  1097446       I       359520       13787   \n",
              "4       90569  2017-07-02 00:01   663656       C       405490       60305   \n",
              "\n",
              "   product_category_1  product_category_2  user_group_id  gender  age_level  \\\n",
              "0                   4            408831.0           10.0  Female        4.0   \n",
              "1                   5            211061.5            8.0  Female        2.0   \n",
              "2                   4            408831.0            8.0  Female        2.0   \n",
              "3                   3            211061.5            3.0    Male        3.0   \n",
              "4                   3            211061.5            2.0    Male        2.0   \n",
              "\n",
              "   user_depth  city_development_index  var_1  is_click  \n",
              "0         3.0                     3.0      0         0  \n",
              "1         2.0                     3.0      0         0  \n",
              "2         2.0                     3.0      0         0  \n",
              "3         3.0                     2.0      1         0  \n",
              "4         3.0                     2.0      1         0  "
            ]
          },
          "execution_count": 315,
          "metadata": {},
          "output_type": "execute_result"
        }
      ],
      "source": [
        "amex.head()"
      ]
    },
    {
      "cell_type": "code",
      "execution_count": null,
      "metadata": {
        "id": "Ldn6kKW39VxP"
      },
      "outputs": [],
      "source": [
        "amex['Time'] = amex['DateTime'].apply(lambda x : x.split(' ')[1])"
      ]
    },
    {
      "cell_type": "code",
      "execution_count": null,
      "metadata": {
        "id": "wVRlVw1W9VxP"
      },
      "outputs": [],
      "source": [
        "amex['Date'] = amex['DateTime'].apply(lambda x : x.split(' ')[0])"
      ]
    },
    {
      "cell_type": "code",
      "execution_count": null,
      "metadata": {
        "id": "aOMJpVyt9VxU"
      },
      "outputs": [],
      "source": [
        "amex.drop(['DateTime'],inplace=True,axis=1)"
      ]
    },
    {
      "cell_type": "code",
      "execution_count": null,
      "metadata": {
        "id": "wFvvLlhQ9VxW"
      },
      "outputs": [],
      "source": [
        "amex['Year'] = amex['Date'].apply( lambda x : x.split('-')[0] )\n",
        "amex['Month'] = amex['Date'].apply( lambda x : x.split('-')[1] )\n",
        "amex['Date'] = amex['Date'].apply( lambda x : x.split('-')[2] )"
      ]
    },
    {
      "cell_type": "code",
      "execution_count": null,
      "metadata": {
        "id": "DYMegs6-9Vxc"
      },
      "outputs": [],
      "source": [
        "amex['Hour'] = amex['Time'].apply( lambda x : x.split(':')[0] )\n",
        "amex['Minutes'] = amex['Time'].apply( lambda x : x.split(':')[1] )"
      ]
    },
    {
      "cell_type": "code",
      "execution_count": null,
      "metadata": {
        "id": "IpCo_ksO9Vxe"
      },
      "outputs": [],
      "source": [
        "amex.drop(['Date'],axis = 1,inplace=True)\n",
        "amex.drop(['Time'],axis = 1,inplace=True)"
      ]
    },
    {
      "cell_type": "code",
      "execution_count": null,
      "metadata": {
        "id": "Oiv_QXww9Vxg"
      },
      "outputs": [],
      "source": [
        "gender = pd.get_dummies(amex['gender'],drop_first=True)"
      ]
    },
    {
      "cell_type": "code",
      "execution_count": null,
      "metadata": {
        "id": "NsjKpoNK9Vxj"
      },
      "outputs": [],
      "source": [
        "product_type = pd.get_dummies(amex['product'])"
      ]
    },
    {
      "cell_type": "code",
      "execution_count": null,
      "metadata": {
        "id": "ZFVvaRc99Vxl"
      },
      "outputs": [],
      "source": [
        "amex.drop(['gender'],axis = 1,inplace=True)\n",
        "amex.drop(['product'],axis = 1,inplace = True)"
      ]
    },
    {
      "cell_type": "code",
      "execution_count": null,
      "metadata": {
        "id": "K77c7A319Vxn"
      },
      "outputs": [],
      "source": [
        "amex['gender'] = gender "
      ]
    },
    {
      "cell_type": "code",
      "execution_count": null,
      "metadata": {
        "id": "SqxgZbkT9Vxp"
      },
      "outputs": [],
      "source": [
        "amex = pd.concat([amex,product_type],axis=1)"
      ]
    },
    {
      "cell_type": "code",
      "execution_count": null,
      "metadata": {
        "id": "cmT2xIMA9Vxs",
        "outputId": "e6385a76-4ee1-4d57-c047-755443656be4"
      },
      "outputs": [
        {
          "data": {
            "text/html": [
              "<div>\n",
              "<style scoped>\n",
              "    .dataframe tbody tr th:only-of-type {\n",
              "        vertical-align: middle;\n",
              "    }\n",
              "\n",
              "    .dataframe tbody tr th {\n",
              "        vertical-align: top;\n",
              "    }\n",
              "\n",
              "    .dataframe thead th {\n",
              "        text-align: right;\n",
              "    }\n",
              "</style>\n",
              "<table border=\"1\" class=\"dataframe\">\n",
              "  <thead>\n",
              "    <tr style=\"text-align: right;\">\n",
              "      <th></th>\n",
              "      <th>session_id</th>\n",
              "      <th>user_id</th>\n",
              "      <th>campaign_id</th>\n",
              "      <th>webpage_id</th>\n",
              "      <th>product_category_1</th>\n",
              "      <th>product_category_2</th>\n",
              "      <th>user_group_id</th>\n",
              "      <th>age_level</th>\n",
              "      <th>user_depth</th>\n",
              "      <th>city_development_index</th>\n",
              "      <th>...</th>\n",
              "      <th>A</th>\n",
              "      <th>B</th>\n",
              "      <th>C</th>\n",
              "      <th>D</th>\n",
              "      <th>E</th>\n",
              "      <th>F</th>\n",
              "      <th>G</th>\n",
              "      <th>H</th>\n",
              "      <th>I</th>\n",
              "      <th>J</th>\n",
              "    </tr>\n",
              "  </thead>\n",
              "  <tbody>\n",
              "    <tr>\n",
              "      <th>0</th>\n",
              "      <td>140690</td>\n",
              "      <td>858557</td>\n",
              "      <td>359520</td>\n",
              "      <td>13787</td>\n",
              "      <td>4</td>\n",
              "      <td>408831.0</td>\n",
              "      <td>10.0</td>\n",
              "      <td>4.0</td>\n",
              "      <td>3.0</td>\n",
              "      <td>3.0</td>\n",
              "      <td>...</td>\n",
              "      <td>0</td>\n",
              "      <td>0</td>\n",
              "      <td>1</td>\n",
              "      <td>0</td>\n",
              "      <td>0</td>\n",
              "      <td>0</td>\n",
              "      <td>0</td>\n",
              "      <td>0</td>\n",
              "      <td>0</td>\n",
              "      <td>0</td>\n",
              "    </tr>\n",
              "    <tr>\n",
              "      <th>1</th>\n",
              "      <td>333291</td>\n",
              "      <td>243253</td>\n",
              "      <td>105960</td>\n",
              "      <td>11085</td>\n",
              "      <td>5</td>\n",
              "      <td>211061.5</td>\n",
              "      <td>8.0</td>\n",
              "      <td>2.0</td>\n",
              "      <td>2.0</td>\n",
              "      <td>3.0</td>\n",
              "      <td>...</td>\n",
              "      <td>0</td>\n",
              "      <td>0</td>\n",
              "      <td>1</td>\n",
              "      <td>0</td>\n",
              "      <td>0</td>\n",
              "      <td>0</td>\n",
              "      <td>0</td>\n",
              "      <td>0</td>\n",
              "      <td>0</td>\n",
              "      <td>0</td>\n",
              "    </tr>\n",
              "    <tr>\n",
              "      <th>2</th>\n",
              "      <td>129781</td>\n",
              "      <td>243253</td>\n",
              "      <td>359520</td>\n",
              "      <td>13787</td>\n",
              "      <td>4</td>\n",
              "      <td>408831.0</td>\n",
              "      <td>8.0</td>\n",
              "      <td>2.0</td>\n",
              "      <td>2.0</td>\n",
              "      <td>3.0</td>\n",
              "      <td>...</td>\n",
              "      <td>0</td>\n",
              "      <td>0</td>\n",
              "      <td>1</td>\n",
              "      <td>0</td>\n",
              "      <td>0</td>\n",
              "      <td>0</td>\n",
              "      <td>0</td>\n",
              "      <td>0</td>\n",
              "      <td>0</td>\n",
              "      <td>0</td>\n",
              "    </tr>\n",
              "    <tr>\n",
              "      <th>3</th>\n",
              "      <td>464848</td>\n",
              "      <td>1097446</td>\n",
              "      <td>359520</td>\n",
              "      <td>13787</td>\n",
              "      <td>3</td>\n",
              "      <td>211061.5</td>\n",
              "      <td>3.0</td>\n",
              "      <td>3.0</td>\n",
              "      <td>3.0</td>\n",
              "      <td>2.0</td>\n",
              "      <td>...</td>\n",
              "      <td>0</td>\n",
              "      <td>0</td>\n",
              "      <td>0</td>\n",
              "      <td>0</td>\n",
              "      <td>0</td>\n",
              "      <td>0</td>\n",
              "      <td>0</td>\n",
              "      <td>0</td>\n",
              "      <td>1</td>\n",
              "      <td>0</td>\n",
              "    </tr>\n",
              "    <tr>\n",
              "      <th>4</th>\n",
              "      <td>90569</td>\n",
              "      <td>663656</td>\n",
              "      <td>405490</td>\n",
              "      <td>60305</td>\n",
              "      <td>3</td>\n",
              "      <td>211061.5</td>\n",
              "      <td>2.0</td>\n",
              "      <td>2.0</td>\n",
              "      <td>3.0</td>\n",
              "      <td>2.0</td>\n",
              "      <td>...</td>\n",
              "      <td>0</td>\n",
              "      <td>0</td>\n",
              "      <td>1</td>\n",
              "      <td>0</td>\n",
              "      <td>0</td>\n",
              "      <td>0</td>\n",
              "      <td>0</td>\n",
              "      <td>0</td>\n",
              "      <td>0</td>\n",
              "      <td>0</td>\n",
              "    </tr>\n",
              "  </tbody>\n",
              "</table>\n",
              "<p>5 rows × 27 columns</p>\n",
              "</div>"
            ],
            "text/plain": [
              "   session_id  user_id  campaign_id  webpage_id  product_category_1  \\\n",
              "0      140690   858557       359520       13787                   4   \n",
              "1      333291   243253       105960       11085                   5   \n",
              "2      129781   243253       359520       13787                   4   \n",
              "3      464848  1097446       359520       13787                   3   \n",
              "4       90569   663656       405490       60305                   3   \n",
              "\n",
              "   product_category_2  user_group_id  age_level  user_depth  \\\n",
              "0            408831.0           10.0        4.0         3.0   \n",
              "1            211061.5            8.0        2.0         2.0   \n",
              "2            408831.0            8.0        2.0         2.0   \n",
              "3            211061.5            3.0        3.0         3.0   \n",
              "4            211061.5            2.0        2.0         3.0   \n",
              "\n",
              "   city_development_index ...  A  B  C  D  E  F  G  H  I  J  \n",
              "0                     3.0 ...  0  0  1  0  0  0  0  0  0  0  \n",
              "1                     3.0 ...  0  0  1  0  0  0  0  0  0  0  \n",
              "2                     3.0 ...  0  0  1  0  0  0  0  0  0  0  \n",
              "3                     2.0 ...  0  0  0  0  0  0  0  0  1  0  \n",
              "4                     2.0 ...  0  0  1  0  0  0  0  0  0  0  \n",
              "\n",
              "[5 rows x 27 columns]"
            ]
          },
          "execution_count": 327,
          "metadata": {},
          "output_type": "execute_result"
        }
      ],
      "source": [
        "amex.head()"
      ]
    },
    {
      "cell_type": "code",
      "execution_count": null,
      "metadata": {
        "id": "oUQwEQeV9Vx4",
        "outputId": "9d802ad1-d222-485d-f4c0-cdd79d74d374"
      },
      "outputs": [
        {
          "data": {
            "text/plain": [
              "Index(['session_id', 'user_id', 'campaign_id', 'webpage_id',\n",
              "       'product_category_1', 'product_category_2', 'user_group_id',\n",
              "       'age_level', 'user_depth', 'city_development_index', 'var_1',\n",
              "       'is_click', 'Year', 'Month', 'Hour', 'Minutes', 'gender', 'A', 'B', 'C',\n",
              "       'D', 'E', 'F', 'G', 'H', 'I', 'J'],\n",
              "      dtype='object')"
            ]
          },
          "execution_count": 328,
          "metadata": {},
          "output_type": "execute_result"
        }
      ],
      "source": [
        "amex.columns"
      ]
    },
    {
      "cell_type": "code",
      "execution_count": null,
      "metadata": {
        "id": "1b1l-pos9Vx5"
      },
      "outputs": [],
      "source": [
        "y = amex['is_click']\n",
        "x = amex.drop(['is_click'],axis=1)"
      ]
    },
    {
      "cell_type": "code",
      "execution_count": null,
      "metadata": {
        "id": "oyvoBN719Vx6"
      },
      "outputs": [],
      "source": [
        "from sklearn.model_selection import train_test_split"
      ]
    },
    {
      "cell_type": "code",
      "execution_count": null,
      "metadata": {
        "id": "ECuMKQT29Vx7"
      },
      "outputs": [],
      "source": [
        "X_train,x_test,Y_train,y_test = train_test_split(x,y,test_size = 0.6,random_state = 101)"
      ]
    },
    {
      "cell_type": "code",
      "execution_count": null,
      "metadata": {
        "id": "KJciINmI9Vx8"
      },
      "outputs": [],
      "source": [
        "from sklearn.linear_model import LogisticRegression"
      ]
    },
    {
      "cell_type": "code",
      "execution_count": null,
      "metadata": {
        "id": "sBR8g8hA9Vx-"
      },
      "outputs": [],
      "source": [
        "lr = LogisticRegression()"
      ]
    },
    {
      "cell_type": "code",
      "execution_count": null,
      "metadata": {
        "id": "v6pcj8I89VyA",
        "outputId": "3dfcd395-78ee-46a5-dd40-2308707565b1"
      },
      "outputs": [
        {
          "data": {
            "text/plain": [
              "LogisticRegression(C=1.0, class_weight=None, dual=False, fit_intercept=True,\n",
              "          intercept_scaling=1, max_iter=100, multi_class='ovr', n_jobs=1,\n",
              "          penalty='l2', random_state=None, solver='liblinear', tol=0.0001,\n",
              "          verbose=0, warm_start=False)"
            ]
          },
          "execution_count": 334,
          "metadata": {},
          "output_type": "execute_result"
        }
      ],
      "source": [
        "lr.fit(X_train,Y_train)"
      ]
    },
    {
      "cell_type": "code",
      "execution_count": null,
      "metadata": {
        "id": "_BPSm7eF9VyF"
      },
      "outputs": [],
      "source": [
        "pr = lr.predict(x_test)"
      ]
    },
    {
      "cell_type": "code",
      "execution_count": null,
      "metadata": {
        "id": "nGew2c4W9VyG"
      },
      "outputs": [],
      "source": [
        "from sklearn.metrics import classification_report,confusion_matrix,accuracy_score"
      ]
    },
    {
      "cell_type": "code",
      "execution_count": null,
      "metadata": {
        "id": "OdEnmeBK9VyI",
        "outputId": "c4a0e788-83ca-459c-d2de-2d473dec45d6"
      },
      "outputs": [
        {
          "name": "stdout",
          "output_type": "stream",
          "text": [
            "[[259251      0]\n",
            " [ 18724      0]]\n",
            "             precision    recall  f1-score   support\n",
            "\n",
            "          0       0.93      1.00      0.97    259251\n",
            "          1       0.00      0.00      0.00     18724\n",
            "\n",
            "avg / total       0.87      0.93      0.90    277975\n",
            "\n"
          ]
        },
        {
          "name": "stderr",
          "output_type": "stream",
          "text": [
            "/anaconda3/lib/python3.6/site-packages/sklearn/metrics/classification.py:1135: UndefinedMetricWarning: Precision and F-score are ill-defined and being set to 0.0 in labels with no predicted samples.\n",
            "  'precision', 'predicted', average, warn_for)\n"
          ]
        }
      ],
      "source": [
        "print(confusion_matrix(y_test,pr))\n",
        "print(classification_report(y_test,pr))"
      ]
    },
    {
      "cell_type": "code",
      "execution_count": null,
      "metadata": {
        "id": "XFe34x9u9VyN"
      },
      "outputs": [],
      "source": [
        "from sklearn.tree import DecisionTreeClassifier"
      ]
    },
    {
      "cell_type": "code",
      "execution_count": null,
      "metadata": {
        "id": "2Z3DiPlP9VyP"
      },
      "outputs": [],
      "source": [
        "dtc = DecisionTreeClassifier()"
      ]
    },
    {
      "cell_type": "code",
      "execution_count": null,
      "metadata": {
        "id": "3glh9Zwi9VyX",
        "outputId": "d5e3aee5-3a42-4900-fdef-b37eb1582751"
      },
      "outputs": [
        {
          "data": {
            "text/plain": [
              "DecisionTreeClassifier(class_weight=None, criterion='gini', max_depth=None,\n",
              "            max_features=None, max_leaf_nodes=None,\n",
              "            min_impurity_decrease=0.0, min_impurity_split=None,\n",
              "            min_samples_leaf=1, min_samples_split=2,\n",
              "            min_weight_fraction_leaf=0.0, presort=False, random_state=None,\n",
              "            splitter='best')"
            ]
          },
          "execution_count": 340,
          "metadata": {},
          "output_type": "execute_result"
        }
      ],
      "source": [
        "dtc.fit(X_train,Y_train)"
      ]
    },
    {
      "cell_type": "code",
      "execution_count": null,
      "metadata": {
        "id": "YY7GIsr59Vya"
      },
      "outputs": [],
      "source": [
        "pr = dtc.predict(x_test)"
      ]
    },
    {
      "cell_type": "code",
      "execution_count": null,
      "metadata": {
        "id": "ZjiUSR5C9Vyc"
      },
      "outputs": [],
      "source": [
        "from sklearn.ensemble import RandomForestClassifier"
      ]
    },
    {
      "cell_type": "code",
      "execution_count": null,
      "metadata": {
        "id": "x3MwLxJ79Vye"
      },
      "outputs": [],
      "source": [
        "rfc = RandomForestClassifier(n_estimators=10)"
      ]
    },
    {
      "cell_type": "code",
      "execution_count": null,
      "metadata": {
        "id": "4IsLzn539Vym",
        "outputId": "46595b95-3ed9-40f2-d0ff-5c229295ca83"
      },
      "outputs": [
        {
          "data": {
            "text/plain": [
              "RandomForestClassifier(bootstrap=True, class_weight=None, criterion='gini',\n",
              "            max_depth=None, max_features='auto', max_leaf_nodes=None,\n",
              "            min_impurity_decrease=0.0, min_impurity_split=None,\n",
              "            min_samples_leaf=1, min_samples_split=2,\n",
              "            min_weight_fraction_leaf=0.0, n_estimators=10, n_jobs=1,\n",
              "            oob_score=False, random_state=None, verbose=0,\n",
              "            warm_start=False)"
            ]
          },
          "execution_count": 344,
          "metadata": {},
          "output_type": "execute_result"
        }
      ],
      "source": [
        "rfc.fit(X_train,Y_train)"
      ]
    },
    {
      "cell_type": "code",
      "execution_count": null,
      "metadata": {
        "id": "H7oY-VWf9Vyo",
        "outputId": "3ea9beb8-8ba6-45e7-89c7-5945bbb14b75"
      },
      "outputs": [
        {
          "name": "stdout",
          "output_type": "stream",
          "text": [
            "[[258803    448]\n",
            " [ 18691     33]]\n",
            "             precision    recall  f1-score   support\n",
            "\n",
            "          0       0.93      1.00      0.96    259251\n",
            "          1       0.07      0.00      0.00     18724\n",
            "\n",
            "avg / total       0.87      0.93      0.90    277975\n",
            "\n",
            "0.9311484845759511\n"
          ]
        }
      ],
      "source": [
        "print(confusion_matrix(y_test,rfc.predict(x_test)))\n",
        "print(classification_report(y_test,rfc.predict(x_test)))\n",
        "print(accuracy_score(y_test,rfc.predict(x_test)))"
      ]
    },
    {
      "cell_type": "code",
      "execution_count": null,
      "metadata": {
        "id": "vwDiWTsm9Vyq",
        "outputId": "c0c26ecb-09b6-4815-f7a9-734f94b458c3"
      },
      "outputs": [
        {
          "name": "stdout",
          "output_type": "stream",
          "text": [
            "[[238229  21022]\n",
            " [ 16952   1772]]\n",
            "             precision    recall  f1-score   support\n",
            "\n",
            "          0       0.93      0.92      0.93    259251\n",
            "          1       0.08      0.09      0.09     18724\n",
            "\n",
            "avg / total       0.88      0.86      0.87    277975\n",
            "\n",
            "0.8633905926791978\n"
          ]
        }
      ],
      "source": [
        "print(confusion_matrix(y_test,pr))\n",
        "print(classification_report(y_test,pr))\n",
        "print(accuracy_score(y_test,pr))"
      ]
    },
    {
      "cell_type": "markdown",
      "metadata": {
        "id": "EzqdgUq49Vys"
      },
      "source": [
        "# Predictions "
      ]
    },
    {
      "cell_type": "code",
      "execution_count": null,
      "metadata": {
        "id": "JqmcESv09Vyz"
      },
      "outputs": [],
      "source": [
        "testing = pd.read_csv('test.csv')"
      ]
    },
    {
      "cell_type": "code",
      "execution_count": null,
      "metadata": {
        "id": "e5fYZFJF9Vy1"
      },
      "outputs": [],
      "source": [
        "testing['product_category_2'] = testing[['product','campaign_id','webpage_id','product_category_2']].apply(productCatagory2,axis = 1)"
      ]
    },
    {
      "cell_type": "code",
      "execution_count": null,
      "metadata": {
        "id": "eXKuaPXh9Vy3"
      },
      "outputs": [],
      "source": [
        "def gender(col):\n",
        "    pro1 = col[0]\n",
        "    gender = col[1]\n",
        "    \n",
        "    if pd.isnull(gender):\n",
        "        if(pro1 <= 3):\n",
        "            return('Male')\n",
        "        else:\n",
        "            return('Female')\n",
        "    else:\n",
        "        return(gender)"
      ]
    },
    {
      "cell_type": "code",
      "execution_count": null,
      "metadata": {
        "id": "iMJFojyZ9Vy4"
      },
      "outputs": [],
      "source": [
        "testing['gender'] = testing[['product_category_1','gender']].apply(gender,axis = 1)"
      ]
    },
    {
      "cell_type": "code",
      "execution_count": null,
      "metadata": {
        "id": "mNXjqzLO9Vy5"
      },
      "outputs": [],
      "source": [
        "testing['user_group_id'] = testing[['gender','user_group_id']].apply(userGroupId,axis = 1)"
      ]
    },
    {
      "cell_type": "code",
      "execution_count": null,
      "metadata": {
        "id": "V3elDXlt9Vy6"
      },
      "outputs": [],
      "source": [
        "testing['age_level'].fillna(3,inplace = True)"
      ]
    },
    {
      "cell_type": "code",
      "execution_count": null,
      "metadata": {
        "id": "899RqXIz9Vy7"
      },
      "outputs": [],
      "source": [
        "testing['user_depth'].fillna(3,inplace = True)"
      ]
    },
    {
      "cell_type": "code",
      "execution_count": null,
      "metadata": {
        "id": "-h5zUngc9Vy8"
      },
      "outputs": [],
      "source": [
        "testing['city_development_index'].fillna(3,inplace = True)"
      ]
    },
    {
      "cell_type": "code",
      "execution_count": null,
      "metadata": {
        "id": "8h2m7-QQ9VzN"
      },
      "outputs": [],
      "source": [
        "testing['Time'] = testing['DateTime'].apply(lambda x : x.split(' ')[1])"
      ]
    },
    {
      "cell_type": "code",
      "execution_count": null,
      "metadata": {
        "id": "9K9usd8c9VzP"
      },
      "outputs": [],
      "source": [
        "testing['Date'] = testing['DateTime'].apply(lambda x : x.split(' ')[0])"
      ]
    },
    {
      "cell_type": "code",
      "execution_count": null,
      "metadata": {
        "id": "NsgdXujS9VzR"
      },
      "outputs": [],
      "source": [
        "testing.drop(['DateTime'],inplace=True,axis=1)"
      ]
    },
    {
      "cell_type": "code",
      "execution_count": null,
      "metadata": {
        "id": "xhca-LR_9VzR"
      },
      "outputs": [],
      "source": [
        "testing['Year'] = testing['Date'].apply( lambda x : x.split('-')[0] )\n",
        "testing['Month'] = testing['Date'].apply( lambda x : x.split('-')[1] )\n",
        "testing['Date'] = testing['Date'].apply( lambda x : x.split('-')[2] )"
      ]
    },
    {
      "cell_type": "code",
      "execution_count": null,
      "metadata": {
        "id": "cmcjkUhy9VzS"
      },
      "outputs": [],
      "source": [
        "testing['Hour'] = testing['Time'].apply( lambda x : x.split(':')[0] )\n",
        "testing['Minutes'] = testing['Time'].apply( lambda x : x.split(':')[1] )"
      ]
    },
    {
      "cell_type": "code",
      "execution_count": null,
      "metadata": {
        "id": "DIYX1JoN9VzS"
      },
      "outputs": [],
      "source": [
        "testing.drop(['Date'],axis = 1,inplace=True)\n",
        "testing.drop(['Time'],axis = 1,inplace=True)"
      ]
    },
    {
      "cell_type": "code",
      "execution_count": null,
      "metadata": {
        "id": "ldShSGcB9VzS"
      },
      "outputs": [],
      "source": [
        "gender = pd.get_dummies(testing['gender'],drop_first=True)"
      ]
    },
    {
      "cell_type": "code",
      "execution_count": null,
      "metadata": {
        "id": "iyoOr2Ok9VzT"
      },
      "outputs": [],
      "source": [
        "product_type = pd.get_dummies(testing['product'])"
      ]
    },
    {
      "cell_type": "code",
      "execution_count": null,
      "metadata": {
        "id": "Iot46RUs9VzT"
      },
      "outputs": [],
      "source": [
        "testing.drop(['gender'],axis = 1,inplace=True)\n",
        "testing.drop(['product'],axis = 1,inplace = True)"
      ]
    },
    {
      "cell_type": "code",
      "execution_count": null,
      "metadata": {
        "id": "byz0RhY69VzT"
      },
      "outputs": [],
      "source": [
        "testing['gender'] = gender "
      ]
    },
    {
      "cell_type": "code",
      "execution_count": null,
      "metadata": {
        "id": "wjWUrfZM9VzU"
      },
      "outputs": [],
      "source": [
        "testing = pd.concat([testing,product_type],axis=1)"
      ]
    },
    {
      "cell_type": "code",
      "execution_count": null,
      "metadata": {
        "id": "Z13pbg7N9VzU",
        "outputId": "285a8409-7c12-48ee-f024-34b24333fccb"
      },
      "outputs": [
        {
          "data": {
            "text/html": [
              "<div>\n",
              "<style scoped>\n",
              "    .dataframe tbody tr th:only-of-type {\n",
              "        vertical-align: middle;\n",
              "    }\n",
              "\n",
              "    .dataframe tbody tr th {\n",
              "        vertical-align: top;\n",
              "    }\n",
              "\n",
              "    .dataframe thead th {\n",
              "        text-align: right;\n",
              "    }\n",
              "</style>\n",
              "<table border=\"1\" class=\"dataframe\">\n",
              "  <thead>\n",
              "    <tr style=\"text-align: right;\">\n",
              "      <th></th>\n",
              "      <th>session_id</th>\n",
              "      <th>user_id</th>\n",
              "      <th>campaign_id</th>\n",
              "      <th>webpage_id</th>\n",
              "      <th>product_category_1</th>\n",
              "      <th>product_category_2</th>\n",
              "      <th>user_group_id</th>\n",
              "      <th>age_level</th>\n",
              "      <th>user_depth</th>\n",
              "      <th>city_development_index</th>\n",
              "      <th>...</th>\n",
              "      <th>A</th>\n",
              "      <th>B</th>\n",
              "      <th>C</th>\n",
              "      <th>D</th>\n",
              "      <th>E</th>\n",
              "      <th>F</th>\n",
              "      <th>G</th>\n",
              "      <th>H</th>\n",
              "      <th>I</th>\n",
              "      <th>J</th>\n",
              "    </tr>\n",
              "  </thead>\n",
              "  <tbody>\n",
              "    <tr>\n",
              "      <th>0</th>\n",
              "      <td>411705</td>\n",
              "      <td>732573</td>\n",
              "      <td>404347</td>\n",
              "      <td>53587</td>\n",
              "      <td>1</td>\n",
              "      <td>450184.0</td>\n",
              "      <td>5.0</td>\n",
              "      <td>5.0</td>\n",
              "      <td>3.0</td>\n",
              "      <td>3.0</td>\n",
              "      <td>...</td>\n",
              "      <td>0</td>\n",
              "      <td>0</td>\n",
              "      <td>0</td>\n",
              "      <td>0</td>\n",
              "      <td>0</td>\n",
              "      <td>0</td>\n",
              "      <td>0</td>\n",
              "      <td>0</td>\n",
              "      <td>0</td>\n",
              "      <td>1</td>\n",
              "    </tr>\n",
              "    <tr>\n",
              "      <th>1</th>\n",
              "      <td>208263</td>\n",
              "      <td>172910</td>\n",
              "      <td>118601</td>\n",
              "      <td>28529</td>\n",
              "      <td>3</td>\n",
              "      <td>82527.0</td>\n",
              "      <td>3.0</td>\n",
              "      <td>3.0</td>\n",
              "      <td>3.0</td>\n",
              "      <td>3.0</td>\n",
              "      <td>...</td>\n",
              "      <td>0</td>\n",
              "      <td>0</td>\n",
              "      <td>0</td>\n",
              "      <td>0</td>\n",
              "      <td>0</td>\n",
              "      <td>0</td>\n",
              "      <td>0</td>\n",
              "      <td>0</td>\n",
              "      <td>1</td>\n",
              "      <td>0</td>\n",
              "    </tr>\n",
              "    <tr>\n",
              "      <th>2</th>\n",
              "      <td>239450</td>\n",
              "      <td>172910</td>\n",
              "      <td>118601</td>\n",
              "      <td>28529</td>\n",
              "      <td>4</td>\n",
              "      <td>82527.0</td>\n",
              "      <td>8.0</td>\n",
              "      <td>3.0</td>\n",
              "      <td>3.0</td>\n",
              "      <td>3.0</td>\n",
              "      <td>...</td>\n",
              "      <td>0</td>\n",
              "      <td>0</td>\n",
              "      <td>0</td>\n",
              "      <td>0</td>\n",
              "      <td>0</td>\n",
              "      <td>0</td>\n",
              "      <td>0</td>\n",
              "      <td>0</td>\n",
              "      <td>1</td>\n",
              "      <td>0</td>\n",
              "    </tr>\n",
              "    <tr>\n",
              "      <th>3</th>\n",
              "      <td>547761</td>\n",
              "      <td>557318</td>\n",
              "      <td>118601</td>\n",
              "      <td>28529</td>\n",
              "      <td>5</td>\n",
              "      <td>82527.0</td>\n",
              "      <td>1.0</td>\n",
              "      <td>1.0</td>\n",
              "      <td>3.0</td>\n",
              "      <td>1.0</td>\n",
              "      <td>...</td>\n",
              "      <td>0</td>\n",
              "      <td>0</td>\n",
              "      <td>0</td>\n",
              "      <td>0</td>\n",
              "      <td>0</td>\n",
              "      <td>0</td>\n",
              "      <td>1</td>\n",
              "      <td>0</td>\n",
              "      <td>0</td>\n",
              "      <td>0</td>\n",
              "    </tr>\n",
              "    <tr>\n",
              "      <th>4</th>\n",
              "      <td>574275</td>\n",
              "      <td>923896</td>\n",
              "      <td>118601</td>\n",
              "      <td>28529</td>\n",
              "      <td>5</td>\n",
              "      <td>82527.0</td>\n",
              "      <td>9.0</td>\n",
              "      <td>3.0</td>\n",
              "      <td>1.0</td>\n",
              "      <td>3.0</td>\n",
              "      <td>...</td>\n",
              "      <td>0</td>\n",
              "      <td>0</td>\n",
              "      <td>0</td>\n",
              "      <td>0</td>\n",
              "      <td>0</td>\n",
              "      <td>0</td>\n",
              "      <td>0</td>\n",
              "      <td>1</td>\n",
              "      <td>0</td>\n",
              "      <td>0</td>\n",
              "    </tr>\n",
              "  </tbody>\n",
              "</table>\n",
              "<p>5 rows × 26 columns</p>\n",
              "</div>"
            ],
            "text/plain": [
              "   session_id  user_id  campaign_id  webpage_id  product_category_1  \\\n",
              "0      411705   732573       404347       53587                   1   \n",
              "1      208263   172910       118601       28529                   3   \n",
              "2      239450   172910       118601       28529                   4   \n",
              "3      547761   557318       118601       28529                   5   \n",
              "4      574275   923896       118601       28529                   5   \n",
              "\n",
              "   product_category_2  user_group_id  age_level  user_depth  \\\n",
              "0            450184.0            5.0        5.0         3.0   \n",
              "1             82527.0            3.0        3.0         3.0   \n",
              "2             82527.0            8.0        3.0         3.0   \n",
              "3             82527.0            1.0        1.0         3.0   \n",
              "4             82527.0            9.0        3.0         1.0   \n",
              "\n",
              "   city_development_index ...  A  B  C  D  E  F  G  H  I  J  \n",
              "0                     3.0 ...  0  0  0  0  0  0  0  0  0  1  \n",
              "1                     3.0 ...  0  0  0  0  0  0  0  0  1  0  \n",
              "2                     3.0 ...  0  0  0  0  0  0  0  0  1  0  \n",
              "3                     1.0 ...  0  0  0  0  0  0  1  0  0  0  \n",
              "4                     3.0 ...  0  0  0  0  0  0  0  1  0  0  \n",
              "\n",
              "[5 rows x 26 columns]"
            ]
          },
          "execution_count": 366,
          "metadata": {},
          "output_type": "execute_result"
        }
      ],
      "source": [
        "testing.head()"
      ]
    },
    {
      "cell_type": "code",
      "execution_count": null,
      "metadata": {
        "id": "-A2m5ZH69VzV"
      },
      "outputs": [],
      "source": [
        "y = amex['is_click']\n",
        "x = amex.drop(['is_click'],axis=1)"
      ]
    },
    {
      "cell_type": "code",
      "execution_count": null,
      "metadata": {
        "id": "gpByWbjv9VzV"
      },
      "outputs": [],
      "source": [
        "x_test = testing"
      ]
    },
    {
      "cell_type": "code",
      "execution_count": null,
      "metadata": {
        "id": "gAuvOFwo9VzW",
        "outputId": "5f823387-b24a-4307-dbc2-45314f422894"
      },
      "outputs": [
        {
          "data": {
            "text/plain": [
              "DecisionTreeClassifier(class_weight=None, criterion='gini', max_depth=None,\n",
              "            max_features=None, max_leaf_nodes=None,\n",
              "            min_impurity_decrease=0.0, min_impurity_split=None,\n",
              "            min_samples_leaf=1, min_samples_split=2,\n",
              "            min_weight_fraction_leaf=0.0, presort=False, random_state=None,\n",
              "            splitter='best')"
            ]
          },
          "execution_count": 373,
          "metadata": {},
          "output_type": "execute_result"
        }
      ],
      "source": [
        "dtc.fit(x,y)"
      ]
    },
    {
      "cell_type": "code",
      "execution_count": null,
      "metadata": {
        "id": "NcTkkJ1A9VzW"
      },
      "outputs": [],
      "source": [
        "pr = dtc.predict(x_test)"
      ]
    },
    {
      "cell_type": "code",
      "execution_count": null,
      "metadata": {
        "id": "xR7gQgWD9VzX"
      },
      "outputs": [],
      "source": [
        "prediction = pd.DataFrame({'session_id' : testing['session_id'],'is_click' : pr},)"
      ]
    },
    {
      "cell_type": "code",
      "execution_count": null,
      "metadata": {
        "id": "1H33xzDR9VzX"
      },
      "outputs": [],
      "source": [
        "prediction.to_csv('Submission.csv',index=False)"
      ]
    },
    {
      "cell_type": "code",
      "execution_count": null,
      "metadata": {
        "id": "LwjM_qLF9VzY"
      },
      "outputs": [],
      "source": [
        ""
      ]
    }
  ],
  "metadata": {
    "kernelspec": {
      "display_name": "Python 3",
      "language": "python",
      "name": "python3"
    },
    "language_info": {
      "codemirror_mode": {
        "name": "ipython",
        "version": 3
      },
      "file_extension": ".py",
      "mimetype": "text/x-python",
      "name": "python",
      "nbconvert_exporter": "python",
      "pygments_lexer": "ipython3",
      "version": "3.6.4"
    },
    "colab": {
      "name": "Amex.ipynb",
      "provenance": [],
      "include_colab_link": true
    }
  },
  "nbformat": 4,
  "nbformat_minor": 0
}